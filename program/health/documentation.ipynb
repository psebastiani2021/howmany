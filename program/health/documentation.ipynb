{
 "cells": [
  {
   "cell_type": "markdown",
   "metadata": {},
   "source": [
    "# Welcome!"
   ]
  },
  {
   "cell_type": "markdown",
   "metadata": {},
   "source": [
    "## The health section of howMany\n",
    "\n",
    "The health section of howMany is centered on health and number-related data &mdash; everything written in pure C#!\n",
    "You can calculate your BMI and more other tools that are going to be developed later. Nonetheless, let's give you a brief introduction about the Body Mass Index (BMI) calculator.\n",
    "**Before starting**: If you got any ideas, feel free to share yours with the developers. We will always be listening to them and very happy to include them if possible!\n",
    "\n",
    "Well, let's start!\n",
    "**Body Mass Index** is defined as the weight of someone divided by the square of height in meters. BMI can indicate if your weight is healthy or not, usually ranging from 14 to 35.\n",
    "A BMI from 14 to 18.5 is considered underweight. If it is between 18.5 and 24.9, you're at a healthy weight. If it's between 25 and 29.9, you're overweight. If your BMI is over 30, then your weight is considered as obese for your height.\n",
    "The formula to obtain one's BMI is the following, where w is weight and h is height:\n",
    "```math\n",
    "BMI = w / (h * h)\n",
    "```\n",
    "But the height has to be entered in meters, and sometimes using meters the mass index isn't that precise - that's why support for height in centimeters was implemented in the C# code:\n"
   ]
  },
 ],
 "metadata": {
  "anaconda-cloud": {},
  "jupytext": {
   "formats": "ipynb,md"
  },
  "kernelspec": {
   "display_name": "C#",
   "language": "csharp",
   "name": "csharp"
  },
  "language_info": {
   "codemirror_mode": {
    "name": "csharp",
    "version": 3
   },
   "file_extension": ".cs",
   "mimetype": "text/x-csharp",
   "name": "csharp",
   "nbconvert_exporter": "csharp",
   "version": "3.9.2"
  }
 },
 "nbformat": 4,
 "nbformat_minor": 4,
 "outputs": []
}
